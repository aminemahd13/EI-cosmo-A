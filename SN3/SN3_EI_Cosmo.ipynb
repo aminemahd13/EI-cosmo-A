{
 "cells": [
  {
   "cell_type": "markdown",
   "id": "e4db517d",
   "metadata": {},
   "source": [
    "### SN3"
   ]
  },
  {
   "cell_type": "code",
   "execution_count": null,
   "id": "3641ec49",
   "metadata": {},
   "outputs": [],
   "source": [
    "#SN3"
   ]
  }
 ],
 "metadata": {
  "kernelspec": {
   "display_name": "Python 3",
   "language": "python",
   "name": "python3"
  },
  "language_info": {
   "name": "python",
   "version": "3.13.0"
  }
 },
 "nbformat": 4,
 "nbformat_minor": 5
}
