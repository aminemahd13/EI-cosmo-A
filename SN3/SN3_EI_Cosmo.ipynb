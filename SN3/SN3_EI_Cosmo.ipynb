{
 "cells": [
  {
   "cell_type": "markdown",
   "id": "e4db517d",
   "metadata": {},
   "source": [
    "### SN3"
   ]
  },
  {
   "cell_type": "code",
   "execution_count": null,
   "id": "3641ec49",
   "metadata": {},
   "outputs": [],
   "source": [
    "##### For Data-LightCurves (WP-SN-3):\n",
    "download = drive.CreateFile({'id': '1Ih8AQsMCmSESWytcztyJKGVvnP_-VAsC'})\n",
    "download.GetContentFile('Data-LightCurves.tgz')\n",
    "!tar zxvf Data-LightCurves.tgz\n",
    "!ls -lrt\n",
    "\n",
    "t, mag = np.loadtxt('Data-LightCurves/EI2019-Data-LightCurves-SN-SNI-Average_LightCurve.txt').T\n",
    "plot(t,-mag)\n",
    "xlabel('Time in Supernova referential frame')\n",
    "ylabel(' - Absolute magnitude')\n",
    "\n",
    "class SNIaLightCurve:\n",
    "    def __init__(self, data):\n",
    "        self.data = data\n",
    "        self.t0 = 0.\n",
    "    def __call__(self,t,s):\n",
    "      return np.interp(t, self.data[:,0]*s, self.data[:,1], left=0,right=0)- 1.52*(s-1)\n",
    "\n",
    "lc = SNIaLightCurve(np.array([t,mag]).T)\n",
    "\n",
    "svals = np.linspace(0.7, 1.3, 7)\n",
    "\n",
    "ttt = np.linspace(-100, 200, 1000)\n",
    "for i in range(len(svals)):\n",
    "  plot(ttt, -lc(ttt,svals[i]), label='s={0:5.2f}'.format(svals[i]))\n",
    "xlabel('Time in Supernova referential frame')\n",
    "ylabel(' - Absolute magnitude')\n",
    "legend()"
   ]
  },
  {
   "cell_type": "markdown",
   "id": "8a966113",
   "metadata": {},
   "source": [
    "## Minuit"
   ]
  },
  {
   "cell_type": "markdown",
   "id": "82780fc4",
   "metadata": {},
   "source": [
    "### EI"
   ]
  },
  {
   "cell_type": "code",
   "execution_count": null,
   "id": "ea0be856",
   "metadata": {},
   "outputs": [],
   "source": [
    "import sys\n",
    "print(\"Using Python {}\".format(sys.version_info[0]))\n",
    "\n",
    "from pylab import *\n",
    "import numpy as np\n",
    "%matplotlib inline\n",
    "from matplotlib import rc\n",
    "rc('figure',figsize=(10,5))\n",
    "rc('font',size=12)\n",
    "rc('text',usetex=False)\n",
    "!pip install emcee\n",
    "!pip install iminuit\n",
    "!rm -rf cosmolib.py*\n",
    "!wget --no-check-certificate https://raw.githubusercontent.com/jchamilton75/CS-ST4-Cosmo-2020/master/cosmolib.py\n",
    "import cosmolib as cs"
   ]
  },
  {
   "cell_type": "markdown",
   "id": "3db4e627",
   "metadata": {},
   "source": [
    "### TD2"
   ]
  },
  {
   "cell_type": "code",
   "execution_count": null,
   "id": "40ae3c07",
   "metadata": {},
   "outputs": [],
   "source": [
    "def line_to_fit(x, pars):\n",
    "  values = pars[0] + pars[1]*x\n",
    "  return values"
   ]
  },
  {
   "cell_type": "code",
   "execution_count": null,
   "id": "7c38cde2",
   "metadata": {},
   "outputs": [],
   "source": [
    "guess = np.array([0., 0.])\n",
    "result = cs.do_minuit(x,y,sigma_y,guess,functname=line_to_fit)"
   ]
  }
 ],
 "metadata": {
  "kernelspec": {
   "display_name": "Python 3",
   "language": "python",
   "name": "python3"
  },
  "language_info": {
   "name": "python",
   "version": "3.13.0"
  }
 },
 "nbformat": 4,
 "nbformat_minor": 5
}
